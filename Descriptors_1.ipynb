{
 "cells": [
  {
   "cell_type": "code",
   "execution_count": 10,
   "id": "17713825",
   "metadata": {},
   "outputs": [],
   "source": [
    "class Demo:\n",
    "    def __get__(self,obj,cls):\n",
    "        print(\"__get__ executing\")\n",
    "        print(self)\n",
    "        print(obj)\n",
    "        print(cls)\n",
    "        \n",
    "    def __set__(self,obj,value):\n",
    "        print(\"__set__ executing__\")\n",
    "        print(self)\n",
    "        print(obj)\n",
    "        print(value)\n",
    "        \n",
    "        \n",
    "        \n",
    "class Employee:\n",
    "    d = Demo()\n",
    "    def __init__(self,fname,lname,pay):\n",
    "        self.fname = fname\n",
    "        self.lname = lname\n",
    "        self.pay = pay\n",
    "        \n",
    "        \n",
    "        \n",
    "e = Employee(\"Steve\",\"Jobs\",1000)        \n",
    "    "
   ]
  },
  {
   "cell_type": "code",
   "execution_count": 11,
   "id": "58054285",
   "metadata": {},
   "outputs": [
    {
     "data": {
      "text/plain": [
       "'Steve'"
      ]
     },
     "execution_count": 11,
     "metadata": {},
     "output_type": "execute_result"
    }
   ],
   "source": [
    "e.fname"
   ]
  },
  {
   "cell_type": "code",
   "execution_count": null,
   "id": "5a4996ed",
   "metadata": {},
   "outputs": [],
   "source": []
  },
  {
   "cell_type": "code",
   "execution_count": 12,
   "id": "2aec9db5",
   "metadata": {},
   "outputs": [
    {
     "data": {
      "text/plain": [
       "'Jobs'"
      ]
     },
     "execution_count": 12,
     "metadata": {},
     "output_type": "execute_result"
    }
   ],
   "source": [
    "e.lname"
   ]
  },
  {
   "cell_type": "code",
   "execution_count": 13,
   "id": "951b041c",
   "metadata": {},
   "outputs": [
    {
     "data": {
      "text/plain": [
       "1000"
      ]
     },
     "execution_count": 13,
     "metadata": {},
     "output_type": "execute_result"
    }
   ],
   "source": [
    "e.pay"
   ]
  },
  {
   "cell_type": "code",
   "execution_count": 14,
   "id": "397eb795",
   "metadata": {},
   "outputs": [
    {
     "data": {
      "text/plain": [
       "{'fname': 'Steve', 'lname': 'Jobs', 'pay': 1000}"
      ]
     },
     "execution_count": 14,
     "metadata": {},
     "output_type": "execute_result"
    }
   ],
   "source": [
    "e.__dict__"
   ]
  },
  {
   "cell_type": "code",
   "execution_count": 15,
   "id": "328f01cf",
   "metadata": {},
   "outputs": [
    {
     "name": "stdout",
     "output_type": "stream",
     "text": [
      "__get__ executing\n",
      "<__main__.Demo object at 0x000001BCAA718990>\n",
      "<__main__.Employee object at 0x000001BCAA708CD0>\n",
      "<class '__main__.Employee'>\n"
     ]
    }
   ],
   "source": [
    "e.d  #descriptor lookup"
   ]
  },
  {
   "cell_type": "code",
   "execution_count": 16,
   "id": "ae27e29a",
   "metadata": {},
   "outputs": [
    {
     "name": "stdout",
     "output_type": "stream",
     "text": [
      "__set__ executing__\n",
      "<__main__.Demo object at 0x000001BCAA718990>\n",
      "<__main__.Employee object at 0x000001BCAA708CD0>\n",
      "10\n"
     ]
    }
   ],
   "source": [
    "e.d = 10 #descriptor assignment"
   ]
  },
  {
   "cell_type": "code",
   "execution_count": null,
   "id": "b951b8c1",
   "metadata": {},
   "outputs": [],
   "source": [
    "#######################################################################################################################"
   ]
  },
  {
   "cell_type": "code",
   "execution_count": 27,
   "id": "53cfe827",
   "metadata": {},
   "outputs": [],
   "source": [
    "class Demo:\n",
    "    \n",
    "    def __init__(self , private_variable):\n",
    "        self.private_variable  = private_variable\n",
    "        \n",
    "    def __get__(self ,obj,cls):\n",
    "        print(f\"Getting the value of {self.private_variable}\")\n",
    "        return obj.__dict__[self.private_variable]       #e.__dict__[\"_fname\"]\n",
    "    \n",
    "    def __set__(self,obj,value):\n",
    "        print(f\"Setting {self.private_variable} to {value}\")\n",
    "        obj.__dict__[self.private_variable] = value\n",
    "        \n",
    "        \n",
    "class Employee:\n",
    "    fname = Demo(\"_fname\")\n",
    "    lname = Demo(\"_lname\")\n",
    "    pay = Demo(\"_pay\")\n",
    "    def __init__(self,fname,lname,pay):\n",
    "        self.fname = fname\n",
    "        self.lname = lname\n",
    "        self.pay = pay\n",
    "        \n",
    "    "
   ]
  },
  {
   "cell_type": "code",
   "execution_count": 28,
   "id": "a7ab7463",
   "metadata": {},
   "outputs": [
    {
     "name": "stdout",
     "output_type": "stream",
     "text": [
      "Setting _fname to Steve\n",
      "Setting _lname to Jobs\n",
      "Setting _pay to 1000\n"
     ]
    }
   ],
   "source": [
    "e = Employee(\"Steve\",\"Jobs\",1000)"
   ]
  },
  {
   "cell_type": "code",
   "execution_count": 29,
   "id": "255bceb5",
   "metadata": {},
   "outputs": [
    {
     "name": "stdout",
     "output_type": "stream",
     "text": [
      "Getting the value of _fname\n"
     ]
    },
    {
     "data": {
      "text/plain": [
       "'Steve'"
      ]
     },
     "execution_count": 29,
     "metadata": {},
     "output_type": "execute_result"
    }
   ],
   "source": [
    "e.fname"
   ]
  },
  {
   "cell_type": "code",
   "execution_count": 30,
   "id": "482b7a75",
   "metadata": {},
   "outputs": [
    {
     "name": "stdout",
     "output_type": "stream",
     "text": [
      "Getting the value of _lname\n"
     ]
    },
    {
     "data": {
      "text/plain": [
       "'Jobs'"
      ]
     },
     "execution_count": 30,
     "metadata": {},
     "output_type": "execute_result"
    }
   ],
   "source": [
    "e.lname"
   ]
  },
  {
   "cell_type": "code",
   "execution_count": 31,
   "id": "5c5eb136",
   "metadata": {},
   "outputs": [
    {
     "name": "stdout",
     "output_type": "stream",
     "text": [
      "Getting the value of _pay\n"
     ]
    },
    {
     "data": {
      "text/plain": [
       "1000"
      ]
     },
     "execution_count": 31,
     "metadata": {},
     "output_type": "execute_result"
    }
   ],
   "source": [
    "e.pay"
   ]
  },
  {
   "cell_type": "code",
   "execution_count": 32,
   "id": "a0e192e5",
   "metadata": {},
   "outputs": [
    {
     "data": {
      "text/plain": [
       "{'_fname': 'Steve', '_lname': 'Jobs', '_pay': 1000}"
      ]
     },
     "execution_count": 32,
     "metadata": {},
     "output_type": "execute_result"
    }
   ],
   "source": [
    "e.__dict__"
   ]
  },
  {
   "cell_type": "code",
   "execution_count": 33,
   "id": "a8295834",
   "metadata": {},
   "outputs": [
    {
     "name": "stdout",
     "output_type": "stream",
     "text": [
      "Setting _fname to Bill\n"
     ]
    }
   ],
   "source": [
    "e.fname = \"Bill\""
   ]
  },
  {
   "cell_type": "code",
   "execution_count": 34,
   "id": "1ddad79f",
   "metadata": {},
   "outputs": [
    {
     "name": "stdout",
     "output_type": "stream",
     "text": [
      "Setting _lname to Gates\n"
     ]
    }
   ],
   "source": [
    "e.lname = \"Gates\""
   ]
  },
  {
   "cell_type": "code",
   "execution_count": 35,
   "id": "fd47e592",
   "metadata": {},
   "outputs": [
    {
     "name": "stdout",
     "output_type": "stream",
     "text": [
      "Setting _pay to 2000\n"
     ]
    }
   ],
   "source": [
    "e.pay = 2000"
   ]
  },
  {
   "cell_type": "code",
   "execution_count": 36,
   "id": "7a96390d",
   "metadata": {},
   "outputs": [
    {
     "data": {
      "text/plain": [
       "{'_fname': 'Bill', '_lname': 'Gates', '_pay': 2000}"
      ]
     },
     "execution_count": 36,
     "metadata": {},
     "output_type": "execute_result"
    }
   ],
   "source": [
    "e.__dict__"
   ]
  },
  {
   "cell_type": "code",
   "execution_count": null,
   "id": "7959b177",
   "metadata": {},
   "outputs": [],
   "source": [
    "#########################################################################################################################"
   ]
  },
  {
   "cell_type": "code",
   "execution_count": 18,
   "id": "2d448793",
   "metadata": {},
   "outputs": [],
   "source": [
    "class Number:\n",
    "    def __init__(self,private_variable):\n",
    "        self.private_variable = private_variable\n",
    "        \n",
    "    def __get__(self, obj , cls):\n",
    "        return obj.__dict__[self.private_variable]\n",
    "    \n",
    "    def __set__(self , obj , value):\n",
    "        if not isinstance(value,(int,float)):\n",
    "            raise TypeError(\"Only numbers are allowed\")\n",
    "        obj.__dict__[self.private_variable] = value\n",
    "        \n",
    "        \n",
    "class String:\n",
    "    def __init__(self,private_variable):\n",
    "        self.private_variable = private_variable\n",
    "        \n",
    "    def __get__(self , obj ,cls):\n",
    "        return obj.__dict__[self.private_variable]\n",
    "    \n",
    "    def __set__(self,obj,value):\n",
    "        if not isinstance (value,str):\n",
    "            raise TypeError(\"Only string values are allowed\")\n",
    "        obj.__dict__[self.private_variable] = value"
   ]
  },
  {
   "cell_type": "code",
   "execution_count": 19,
   "id": "e66fac3e",
   "metadata": {},
   "outputs": [],
   "source": [
    "class Employee:\n",
    "    fname = String(\"_fname\")\n",
    "    lname = String(\"_lname\")\n",
    "    pay = Number(\"_pay\")\n",
    "    def __init__(self , fname ,lname ,pay):\n",
    "        self.fname = fname\n",
    "        self.lname = lname\n",
    "        self.pay = pay\n",
    "        "
   ]
  },
  {
   "cell_type": "code",
   "execution_count": 20,
   "id": "88d2266e",
   "metadata": {},
   "outputs": [],
   "source": [
    "e = Employee(\"Steve\",\"Jobs\",1000)"
   ]
  },
  {
   "cell_type": "code",
   "execution_count": 21,
   "id": "1973614d",
   "metadata": {},
   "outputs": [
    {
     "data": {
      "text/plain": [
       "{'_fname': 'Steve', '_lname': 'Jobs', '_pay': 1000}"
      ]
     },
     "execution_count": 21,
     "metadata": {},
     "output_type": "execute_result"
    }
   ],
   "source": [
    "e.__dict__"
   ]
  },
  {
   "cell_type": "code",
   "execution_count": 22,
   "id": "5b637f9b",
   "metadata": {},
   "outputs": [
    {
     "data": {
      "text/plain": [
       "'Steve'"
      ]
     },
     "execution_count": 22,
     "metadata": {},
     "output_type": "execute_result"
    }
   ],
   "source": [
    "e.fname"
   ]
  },
  {
   "cell_type": "code",
   "execution_count": 23,
   "id": "e9ea38de",
   "metadata": {},
   "outputs": [
    {
     "ename": "TypeError",
     "evalue": "Only string values are allowed",
     "output_type": "error",
     "traceback": [
      "\u001b[1;31m---------------------------------------------------------------------------\u001b[0m",
      "\u001b[1;31mTypeError\u001b[0m                                 Traceback (most recent call last)",
      "Cell \u001b[1;32mIn[23], line 1\u001b[0m\n\u001b[1;32m----> 1\u001b[0m e\u001b[38;5;241m.\u001b[39mfname \u001b[38;5;241m=\u001b[39m \u001b[38;5;241m100000\u001b[39m\n",
      "Cell \u001b[1;32mIn[18], line 23\u001b[0m, in \u001b[0;36mString.__set__\u001b[1;34m(self, obj, value)\u001b[0m\n\u001b[0;32m     21\u001b[0m \u001b[38;5;28;01mdef\u001b[39;00m \u001b[38;5;21m__set__\u001b[39m(\u001b[38;5;28mself\u001b[39m,obj,value):\n\u001b[0;32m     22\u001b[0m     \u001b[38;5;28;01mif\u001b[39;00m \u001b[38;5;129;01mnot\u001b[39;00m \u001b[38;5;28misinstance\u001b[39m (value,\u001b[38;5;28mstr\u001b[39m):\n\u001b[1;32m---> 23\u001b[0m         \u001b[38;5;28;01mraise\u001b[39;00m \u001b[38;5;167;01mTypeError\u001b[39;00m(\u001b[38;5;124m\"\u001b[39m\u001b[38;5;124mOnly string values are allowed\u001b[39m\u001b[38;5;124m\"\u001b[39m)\n\u001b[0;32m     24\u001b[0m     obj\u001b[38;5;241m.\u001b[39m\u001b[38;5;18m__dict__\u001b[39m[\u001b[38;5;28mself\u001b[39m\u001b[38;5;241m.\u001b[39mprivate_variable] \u001b[38;5;241m=\u001b[39m value\n",
      "\u001b[1;31mTypeError\u001b[0m: Only string values are allowed"
     ]
    }
   ],
   "source": [
    "e.fname = 100000"
   ]
  },
  {
   "cell_type": "code",
   "execution_count": 24,
   "id": "511355ee",
   "metadata": {},
   "outputs": [
    {
     "ename": "TypeError",
     "evalue": "Only numbers are allowed",
     "output_type": "error",
     "traceback": [
      "\u001b[1;31m---------------------------------------------------------------------------\u001b[0m",
      "\u001b[1;31mTypeError\u001b[0m                                 Traceback (most recent call last)",
      "Cell \u001b[1;32mIn[24], line 1\u001b[0m\n\u001b[1;32m----> 1\u001b[0m e\u001b[38;5;241m.\u001b[39mpay \u001b[38;5;241m=\u001b[39m \u001b[38;5;124m\"\u001b[39m\u001b[38;5;124m10000\u001b[39m\u001b[38;5;124m\"\u001b[39m\n",
      "Cell \u001b[1;32mIn[18], line 10\u001b[0m, in \u001b[0;36mNumber.__set__\u001b[1;34m(self, obj, value)\u001b[0m\n\u001b[0;32m      8\u001b[0m \u001b[38;5;28;01mdef\u001b[39;00m \u001b[38;5;21m__set__\u001b[39m(\u001b[38;5;28mself\u001b[39m , obj , value):\n\u001b[0;32m      9\u001b[0m     \u001b[38;5;28;01mif\u001b[39;00m \u001b[38;5;129;01mnot\u001b[39;00m \u001b[38;5;28misinstance\u001b[39m(value,(\u001b[38;5;28mint\u001b[39m,\u001b[38;5;28mfloat\u001b[39m)):\n\u001b[1;32m---> 10\u001b[0m         \u001b[38;5;28;01mraise\u001b[39;00m \u001b[38;5;167;01mTypeError\u001b[39;00m(\u001b[38;5;124m\"\u001b[39m\u001b[38;5;124mOnly numbers are allowed\u001b[39m\u001b[38;5;124m\"\u001b[39m)\n\u001b[0;32m     11\u001b[0m     obj\u001b[38;5;241m.\u001b[39m\u001b[38;5;18m__dict__\u001b[39m[\u001b[38;5;28mself\u001b[39m\u001b[38;5;241m.\u001b[39mprivate_variable] \u001b[38;5;241m=\u001b[39m value\n",
      "\u001b[1;31mTypeError\u001b[0m: Only numbers are allowed"
     ]
    }
   ],
   "source": [
    "e.pay = \"10000\""
   ]
  },
  {
   "cell_type": "code",
   "execution_count": null,
   "id": "f8d68c69",
   "metadata": {},
   "outputs": [],
   "source": [
    "##############################################################################################################"
   ]
  },
  {
   "cell_type": "code",
   "execution_count": 43,
   "id": "ad2d0852",
   "metadata": {},
   "outputs": [],
   "source": [
    "#Creating library and performing Abstraction and encapsulation i.e hiding the code implementation\n",
    "\n",
    "class Validation:\n",
    "    \n",
    "     def __get__(self, obj , cls):\n",
    "        return obj.__dict__[self.private_variable]\n",
    "    \n",
    "    \n",
    "class Number(Validation):\n",
    "    \n",
    "    def __init__(self,private_variable, *,min_value,max_value):\n",
    "        self.private_variable = private_variable\n",
    "        self.min_value = min_value\n",
    "        self.max_value = max_value\n",
    "        \n",
    "    def __set__(self , obj , value):\n",
    "        if not isinstance(value,(int,float)):\n",
    "            raise TypeError(\"Only numbers are allowed\")\n",
    "        if value < self.min_value:\n",
    "            raise ValueError(f\"Min value should be {self.min_value}\")\n",
    "        if value > self.max_value:\n",
    "            raise ValueError(f\"Max value should be {self.max_value}\")\n",
    "        obj.__dict__[self.private_variable] = value\n",
    "        \n",
    "        \n",
    "class String(Validation):\n",
    "    \n",
    "    def __init__(self,private_variable, * ,min_len, max_len):\n",
    "        self.private_variable = private_variable\n",
    "        self.min_len = min_len\n",
    "        self.max_len = max_len\n",
    "    \n",
    "    def __set__(self,obj,value):\n",
    "        if not isinstance (value,str):\n",
    "            raise TypeError(\"Only string values are allowed\")\n",
    "        if len(value) < self.min_len:\n",
    "            raise ValueError(f\"Min length should be {self.min_len}\")\n",
    "        if len(value) > self.max_len:\n",
    "             raise ValueError(f\"Max length should be {self.max_len}\")\n",
    "        obj.__dict__[self.private_variable] = value\n",
    "    "
   ]
  },
  {
   "cell_type": "code",
   "execution_count": 44,
   "id": "d82d5a39",
   "metadata": {},
   "outputs": [],
   "source": [
    "#Abstraction and Encapsulation At Work\n",
    "#Adding layers of abstraction by adding abstract class\n",
    "\n",
    "class ValidateFname(String):\n",
    "    pass\n",
    "\n",
    "class ValidateLname(String):   \n",
    "    pass\n",
    "\n",
    "class ValidatePay(Number):\n",
    "    pass\n",
    "\n",
    "class ValidateAge(Number):\n",
    "    pass"
   ]
  },
  {
   "cell_type": "code",
   "execution_count": 46,
   "id": "66dc24af",
   "metadata": {},
   "outputs": [],
   "source": [
    "#Intercepting different attributes using descriptors:-\n",
    "\n",
    "class Employee:\n",
    "    \n",
    "    fname = ValidateFname(\"_fname\" , min_len = 5 , max_len = 8)\n",
    "    lname = ValidateLname(\"_lname\" , min_len = 8 , max_len = 12 )\n",
    "    pay = ValidatePay(\"_pay\"  , min_value = 1000 , max_value = 90000)\n",
    "    age = ValidateAge(\"_age\" , min_value = 18 , max_value = 60)\n",
    "    \n",
    "    def __init__(self,fname,lname,pay,age):\n",
    "        self.fname = fname \n",
    "        self.lname = lname\n",
    "        self.pay = pay\n",
    "        self.age = age"
   ]
  },
  {
   "cell_type": "code",
   "execution_count": 36,
   "id": "f7139d4e",
   "metadata": {},
   "outputs": [
    {
     "data": {
      "text/plain": [
       "{'_fname': 'Steve', '_lname': 'Jobssssss', '_pay': 1000}"
      ]
     },
     "execution_count": 36,
     "metadata": {},
     "output_type": "execute_result"
    }
   ],
   "source": [
    "#Object was created when age attribute was'nt present in the original Employee Class\n",
    "\n",
    "emp = Employee(\"Steve\",\"Jobssssss\",1000)\n",
    "emp.__dict__"
   ]
  },
  {
   "cell_type": "code",
   "execution_count": 37,
   "id": "0b836757",
   "metadata": {},
   "outputs": [
    {
     "ename": "ValueError",
     "evalue": "Min length should be 5",
     "output_type": "error",
     "traceback": [
      "\u001b[1;31m---------------------------------------------------------------------------\u001b[0m",
      "\u001b[1;31mValueError\u001b[0m                                Traceback (most recent call last)",
      "Cell \u001b[1;32mIn[37], line 1\u001b[0m\n\u001b[1;32m----> 1\u001b[0m emp\u001b[38;5;241m.\u001b[39mfname\u001b[38;5;241m=\u001b[39m \u001b[38;5;124m\"\u001b[39m\u001b[38;5;124mTim\u001b[39m\u001b[38;5;124m\"\u001b[39m\n",
      "Cell \u001b[1;32mIn[30], line 37\u001b[0m, in \u001b[0;36mString.__set__\u001b[1;34m(self, obj, value)\u001b[0m\n\u001b[0;32m     35\u001b[0m     \u001b[38;5;28;01mraise\u001b[39;00m \u001b[38;5;167;01mTypeError\u001b[39;00m(\u001b[38;5;124m\"\u001b[39m\u001b[38;5;124mOnly string values are allowed\u001b[39m\u001b[38;5;124m\"\u001b[39m)\n\u001b[0;32m     36\u001b[0m \u001b[38;5;28;01mif\u001b[39;00m \u001b[38;5;28mlen\u001b[39m(value) \u001b[38;5;241m<\u001b[39m \u001b[38;5;28mself\u001b[39m\u001b[38;5;241m.\u001b[39mmin_len:\n\u001b[1;32m---> 37\u001b[0m     \u001b[38;5;28;01mraise\u001b[39;00m \u001b[38;5;167;01mValueError\u001b[39;00m(\u001b[38;5;124mf\u001b[39m\u001b[38;5;124m\"\u001b[39m\u001b[38;5;124mMin length should be \u001b[39m\u001b[38;5;132;01m{\u001b[39;00m\u001b[38;5;28mself\u001b[39m\u001b[38;5;241m.\u001b[39mmin_len\u001b[38;5;132;01m}\u001b[39;00m\u001b[38;5;124m\"\u001b[39m)\n\u001b[0;32m     38\u001b[0m \u001b[38;5;28;01mif\u001b[39;00m \u001b[38;5;28mlen\u001b[39m(value) \u001b[38;5;241m>\u001b[39m \u001b[38;5;28mself\u001b[39m\u001b[38;5;241m.\u001b[39mmax_len:\n\u001b[0;32m     39\u001b[0m      \u001b[38;5;28;01mraise\u001b[39;00m \u001b[38;5;167;01mValueError\u001b[39;00m(\u001b[38;5;124mf\u001b[39m\u001b[38;5;124m\"\u001b[39m\u001b[38;5;124mMax length should be \u001b[39m\u001b[38;5;132;01m{\u001b[39;00m\u001b[38;5;28mself\u001b[39m\u001b[38;5;241m.\u001b[39mmax_len\u001b[38;5;132;01m}\u001b[39;00m\u001b[38;5;124m\"\u001b[39m)\n",
      "\u001b[1;31mValueError\u001b[0m: Min length should be 5"
     ]
    }
   ],
   "source": [
    "emp.fname= \"Tim\""
   ]
  },
  {
   "cell_type": "code",
   "execution_count": 38,
   "id": "f7149d90",
   "metadata": {},
   "outputs": [
    {
     "ename": "ValueError",
     "evalue": "Min length should be 8",
     "output_type": "error",
     "traceback": [
      "\u001b[1;31m---------------------------------------------------------------------------\u001b[0m",
      "\u001b[1;31mValueError\u001b[0m                                Traceback (most recent call last)",
      "Cell \u001b[1;32mIn[38], line 1\u001b[0m\n\u001b[1;32m----> 1\u001b[0m emp\u001b[38;5;241m.\u001b[39mlname\u001b[38;5;241m=\u001b[39m \u001b[38;5;124m\"\u001b[39m\u001b[38;5;124mcook\u001b[39m\u001b[38;5;124m\"\u001b[39m\n",
      "Cell \u001b[1;32mIn[30], line 37\u001b[0m, in \u001b[0;36mString.__set__\u001b[1;34m(self, obj, value)\u001b[0m\n\u001b[0;32m     35\u001b[0m     \u001b[38;5;28;01mraise\u001b[39;00m \u001b[38;5;167;01mTypeError\u001b[39;00m(\u001b[38;5;124m\"\u001b[39m\u001b[38;5;124mOnly string values are allowed\u001b[39m\u001b[38;5;124m\"\u001b[39m)\n\u001b[0;32m     36\u001b[0m \u001b[38;5;28;01mif\u001b[39;00m \u001b[38;5;28mlen\u001b[39m(value) \u001b[38;5;241m<\u001b[39m \u001b[38;5;28mself\u001b[39m\u001b[38;5;241m.\u001b[39mmin_len:\n\u001b[1;32m---> 37\u001b[0m     \u001b[38;5;28;01mraise\u001b[39;00m \u001b[38;5;167;01mValueError\u001b[39;00m(\u001b[38;5;124mf\u001b[39m\u001b[38;5;124m\"\u001b[39m\u001b[38;5;124mMin length should be \u001b[39m\u001b[38;5;132;01m{\u001b[39;00m\u001b[38;5;28mself\u001b[39m\u001b[38;5;241m.\u001b[39mmin_len\u001b[38;5;132;01m}\u001b[39;00m\u001b[38;5;124m\"\u001b[39m)\n\u001b[0;32m     38\u001b[0m \u001b[38;5;28;01mif\u001b[39;00m \u001b[38;5;28mlen\u001b[39m(value) \u001b[38;5;241m>\u001b[39m \u001b[38;5;28mself\u001b[39m\u001b[38;5;241m.\u001b[39mmax_len:\n\u001b[0;32m     39\u001b[0m      \u001b[38;5;28;01mraise\u001b[39;00m \u001b[38;5;167;01mValueError\u001b[39;00m(\u001b[38;5;124mf\u001b[39m\u001b[38;5;124m\"\u001b[39m\u001b[38;5;124mMax length should be \u001b[39m\u001b[38;5;132;01m{\u001b[39;00m\u001b[38;5;28mself\u001b[39m\u001b[38;5;241m.\u001b[39mmax_len\u001b[38;5;132;01m}\u001b[39;00m\u001b[38;5;124m\"\u001b[39m)\n",
      "\u001b[1;31mValueError\u001b[0m: Min length should be 8"
     ]
    }
   ],
   "source": [
    "emp.lname= \"cook\""
   ]
  },
  {
   "cell_type": "code",
   "execution_count": 39,
   "id": "a3d63b3d",
   "metadata": {},
   "outputs": [
    {
     "ename": "ValueError",
     "evalue": "Min value should be 1000",
     "output_type": "error",
     "traceback": [
      "\u001b[1;31m---------------------------------------------------------------------------\u001b[0m",
      "\u001b[1;31mValueError\u001b[0m                                Traceback (most recent call last)",
      "Cell \u001b[1;32mIn[39], line 1\u001b[0m\n\u001b[1;32m----> 1\u001b[0m emp\u001b[38;5;241m.\u001b[39mpay \u001b[38;5;241m=\u001b[39m \u001b[38;5;241m900\u001b[39m\n",
      "Cell \u001b[1;32mIn[30], line 20\u001b[0m, in \u001b[0;36mNumber.__set__\u001b[1;34m(self, obj, value)\u001b[0m\n\u001b[0;32m     18\u001b[0m     \u001b[38;5;28;01mraise\u001b[39;00m \u001b[38;5;167;01mTypeError\u001b[39;00m(\u001b[38;5;124m\"\u001b[39m\u001b[38;5;124mOnly numbers are allowed\u001b[39m\u001b[38;5;124m\"\u001b[39m)\n\u001b[0;32m     19\u001b[0m \u001b[38;5;28;01mif\u001b[39;00m value \u001b[38;5;241m<\u001b[39m \u001b[38;5;28mself\u001b[39m\u001b[38;5;241m.\u001b[39mmin_value:\n\u001b[1;32m---> 20\u001b[0m     \u001b[38;5;28;01mraise\u001b[39;00m \u001b[38;5;167;01mValueError\u001b[39;00m(\u001b[38;5;124mf\u001b[39m\u001b[38;5;124m\"\u001b[39m\u001b[38;5;124mMin value should be \u001b[39m\u001b[38;5;132;01m{\u001b[39;00m\u001b[38;5;28mself\u001b[39m\u001b[38;5;241m.\u001b[39mmin_value\u001b[38;5;132;01m}\u001b[39;00m\u001b[38;5;124m\"\u001b[39m)\n\u001b[0;32m     21\u001b[0m \u001b[38;5;28;01mif\u001b[39;00m value \u001b[38;5;241m>\u001b[39m \u001b[38;5;28mself\u001b[39m\u001b[38;5;241m.\u001b[39mmax_value:\n\u001b[0;32m     22\u001b[0m     \u001b[38;5;28;01mraise\u001b[39;00m \u001b[38;5;167;01mValueError\u001b[39;00m(\u001b[38;5;124mf\u001b[39m\u001b[38;5;124m\"\u001b[39m\u001b[38;5;124mMax value should be \u001b[39m\u001b[38;5;132;01m{\u001b[39;00m\u001b[38;5;28mself\u001b[39m\u001b[38;5;241m.\u001b[39mmax_value\u001b[38;5;132;01m}\u001b[39;00m\u001b[38;5;124m\"\u001b[39m)\n",
      "\u001b[1;31mValueError\u001b[0m: Min value should be 1000"
     ]
    }
   ],
   "source": [
    "emp.pay = 900"
   ]
  },
  {
   "cell_type": "code",
   "execution_count": 50,
   "id": "a3fc597d",
   "metadata": {},
   "outputs": [
    {
     "data": {
      "text/plain": [
       "{'_fname': 'Billy', '_lname': 'Gatessss', '_pay': 1000, '_age': 55}"
      ]
     },
     "execution_count": 50,
     "metadata": {},
     "output_type": "execute_result"
    }
   ],
   "source": [
    "#Employee object is created when age attribute was added\n",
    "\n",
    "emp2 = Employee(\"Billy\",\"Gatessss\",1000,55)\n",
    "emp2.__dict__"
   ]
  },
  {
   "cell_type": "code",
   "execution_count": 51,
   "id": "638b515b",
   "metadata": {},
   "outputs": [
    {
     "ename": "ValueError",
     "evalue": "Min length should be 5",
     "output_type": "error",
     "traceback": [
      "\u001b[1;31m---------------------------------------------------------------------------\u001b[0m",
      "\u001b[1;31mValueError\u001b[0m                                Traceback (most recent call last)",
      "Cell \u001b[1;32mIn[51], line 1\u001b[0m\n\u001b[1;32m----> 1\u001b[0m emp2\u001b[38;5;241m.\u001b[39mfname \u001b[38;5;241m=\u001b[39m \u001b[38;5;124m\"\u001b[39m\u001b[38;5;124mBill\u001b[39m\u001b[38;5;124m\"\u001b[39m\n",
      "Cell \u001b[1;32mIn[43], line 37\u001b[0m, in \u001b[0;36mString.__set__\u001b[1;34m(self, obj, value)\u001b[0m\n\u001b[0;32m     35\u001b[0m     \u001b[38;5;28;01mraise\u001b[39;00m \u001b[38;5;167;01mTypeError\u001b[39;00m(\u001b[38;5;124m\"\u001b[39m\u001b[38;5;124mOnly string values are allowed\u001b[39m\u001b[38;5;124m\"\u001b[39m)\n\u001b[0;32m     36\u001b[0m \u001b[38;5;28;01mif\u001b[39;00m \u001b[38;5;28mlen\u001b[39m(value) \u001b[38;5;241m<\u001b[39m \u001b[38;5;28mself\u001b[39m\u001b[38;5;241m.\u001b[39mmin_len:\n\u001b[1;32m---> 37\u001b[0m     \u001b[38;5;28;01mraise\u001b[39;00m \u001b[38;5;167;01mValueError\u001b[39;00m(\u001b[38;5;124mf\u001b[39m\u001b[38;5;124m\"\u001b[39m\u001b[38;5;124mMin length should be \u001b[39m\u001b[38;5;132;01m{\u001b[39;00m\u001b[38;5;28mself\u001b[39m\u001b[38;5;241m.\u001b[39mmin_len\u001b[38;5;132;01m}\u001b[39;00m\u001b[38;5;124m\"\u001b[39m)\n\u001b[0;32m     38\u001b[0m \u001b[38;5;28;01mif\u001b[39;00m \u001b[38;5;28mlen\u001b[39m(value) \u001b[38;5;241m>\u001b[39m \u001b[38;5;28mself\u001b[39m\u001b[38;5;241m.\u001b[39mmax_len:\n\u001b[0;32m     39\u001b[0m      \u001b[38;5;28;01mraise\u001b[39;00m \u001b[38;5;167;01mValueError\u001b[39;00m(\u001b[38;5;124mf\u001b[39m\u001b[38;5;124m\"\u001b[39m\u001b[38;5;124mMax length should be \u001b[39m\u001b[38;5;132;01m{\u001b[39;00m\u001b[38;5;28mself\u001b[39m\u001b[38;5;241m.\u001b[39mmax_len\u001b[38;5;132;01m}\u001b[39;00m\u001b[38;5;124m\"\u001b[39m)\n",
      "\u001b[1;31mValueError\u001b[0m: Min length should be 5"
     ]
    }
   ],
   "source": [
    "emp2.fname = \"Bill\""
   ]
  },
  {
   "cell_type": "code",
   "execution_count": 52,
   "id": "7c1b1099",
   "metadata": {},
   "outputs": [
    {
     "ename": "ValueError",
     "evalue": "Max value should be 60",
     "output_type": "error",
     "traceback": [
      "\u001b[1;31m---------------------------------------------------------------------------\u001b[0m",
      "\u001b[1;31mValueError\u001b[0m                                Traceback (most recent call last)",
      "Cell \u001b[1;32mIn[52], line 1\u001b[0m\n\u001b[1;32m----> 1\u001b[0m emp2\u001b[38;5;241m.\u001b[39mage \u001b[38;5;241m=\u001b[39m \u001b[38;5;241m90\u001b[39m\n",
      "Cell \u001b[1;32mIn[43], line 22\u001b[0m, in \u001b[0;36mNumber.__set__\u001b[1;34m(self, obj, value)\u001b[0m\n\u001b[0;32m     20\u001b[0m     \u001b[38;5;28;01mraise\u001b[39;00m \u001b[38;5;167;01mValueError\u001b[39;00m(\u001b[38;5;124mf\u001b[39m\u001b[38;5;124m\"\u001b[39m\u001b[38;5;124mMin value should be \u001b[39m\u001b[38;5;132;01m{\u001b[39;00m\u001b[38;5;28mself\u001b[39m\u001b[38;5;241m.\u001b[39mmin_value\u001b[38;5;132;01m}\u001b[39;00m\u001b[38;5;124m\"\u001b[39m)\n\u001b[0;32m     21\u001b[0m \u001b[38;5;28;01mif\u001b[39;00m value \u001b[38;5;241m>\u001b[39m \u001b[38;5;28mself\u001b[39m\u001b[38;5;241m.\u001b[39mmax_value:\n\u001b[1;32m---> 22\u001b[0m     \u001b[38;5;28;01mraise\u001b[39;00m \u001b[38;5;167;01mValueError\u001b[39;00m(\u001b[38;5;124mf\u001b[39m\u001b[38;5;124m\"\u001b[39m\u001b[38;5;124mMax value should be \u001b[39m\u001b[38;5;132;01m{\u001b[39;00m\u001b[38;5;28mself\u001b[39m\u001b[38;5;241m.\u001b[39mmax_value\u001b[38;5;132;01m}\u001b[39;00m\u001b[38;5;124m\"\u001b[39m)\n\u001b[0;32m     23\u001b[0m obj\u001b[38;5;241m.\u001b[39m\u001b[38;5;18m__dict__\u001b[39m[\u001b[38;5;28mself\u001b[39m\u001b[38;5;241m.\u001b[39mprivate_variable] \u001b[38;5;241m=\u001b[39m value\n",
      "\u001b[1;31mValueError\u001b[0m: Max value should be 60"
     ]
    }
   ],
   "source": [
    "emp2.age = 90"
   ]
  },
  {
   "cell_type": "code",
   "execution_count": null,
   "id": "d183b2a6",
   "metadata": {},
   "outputs": [],
   "source": []
  },
  {
   "cell_type": "code",
   "execution_count": null,
   "id": "b03f2adb",
   "metadata": {},
   "outputs": [],
   "source": []
  },
  {
   "cell_type": "code",
   "execution_count": null,
   "id": "d69ebb6c",
   "metadata": {},
   "outputs": [],
   "source": []
  },
  {
   "cell_type": "code",
   "execution_count": null,
   "id": "b6caf040",
   "metadata": {},
   "outputs": [],
   "source": []
  },
  {
   "cell_type": "code",
   "execution_count": null,
   "id": "ee84bf0c",
   "metadata": {},
   "outputs": [],
   "source": []
  },
  {
   "cell_type": "code",
   "execution_count": null,
   "id": "b933480b",
   "metadata": {},
   "outputs": [],
   "source": []
  },
  {
   "cell_type": "code",
   "execution_count": null,
   "id": "9f381349",
   "metadata": {},
   "outputs": [],
   "source": []
  },
  {
   "cell_type": "code",
   "execution_count": null,
   "id": "191eed56",
   "metadata": {},
   "outputs": [],
   "source": []
  }
 ],
 "metadata": {
  "kernelspec": {
   "display_name": "Python 3 (ipykernel)",
   "language": "python",
   "name": "python3"
  },
  "language_info": {
   "codemirror_mode": {
    "name": "ipython",
    "version": 3
   },
   "file_extension": ".py",
   "mimetype": "text/x-python",
   "name": "python",
   "nbconvert_exporter": "python",
   "pygments_lexer": "ipython3",
   "version": "3.11.3"
  }
 },
 "nbformat": 4,
 "nbformat_minor": 5
}
